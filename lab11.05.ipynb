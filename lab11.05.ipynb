{
  "nbformat": 4,
  "nbformat_minor": 0,
  "metadata": {
    "colab": {
      "provenance": [],
      "authorship_tag": "ABX9TyMj+DDOoHB2/d6gXkiMJSyq",
      "include_colab_link": true
    },
    "kernelspec": {
      "name": "python3",
      "display_name": "Python 3"
    },
    "language_info": {
      "name": "python"
    }
  },
  "cells": [
    {
      "cell_type": "markdown",
      "metadata": {
        "id": "view-in-github",
        "colab_type": "text"
      },
      "source": [
        "<a href=\"https://colab.research.google.com/github/ilyas29akhmetov/lab/blob/main/lab11.05.ipynb\" target=\"_parent\"><img src=\"https://colab.research.google.com/assets/colab-badge.svg\" alt=\"Open In Colab\"/></a>"
      ]
    },
    {
      "cell_type": "markdown",
      "source": [
        "Условные операторы"
      ],
      "metadata": {
        "id": "HZiNuENydJRf"
      }
    },
    {
      "cell_type": "code",
      "source": [
        "num=input('Введите число:')\n",
        "if float(num)>0:\n",
        "  print('положительное число')\n",
        "elif float(num)<0:\n",
        "  print('отрицательное число')\n",
        "else:\n",
        "  print('ноль')"
      ],
      "metadata": {
        "colab": {
          "base_uri": "https://localhost:8080/"
        },
        "id": "ijnZ45TddNIL",
        "outputId": "f2430e38-bef2-4d7a-ffa4-6acd15bef245"
      },
      "execution_count": 14,
      "outputs": [
        {
          "output_type": "stream",
          "name": "stdout",
          "text": [
            "Введите число:0.1\n",
            "положительное число\n"
          ]
        }
      ]
    },
    {
      "cell_type": "code",
      "source": [
        "pip install CoolProp"
      ],
      "metadata": {
        "colab": {
          "base_uri": "https://localhost:8080/"
        },
        "id": "QxNko5OHfSHd",
        "outputId": "ee1cf0b7-06d9-4241-f3fa-2201e64a6a63"
      },
      "execution_count": 11,
      "outputs": [
        {
          "output_type": "stream",
          "name": "stdout",
          "text": [
            "Looking in indexes: https://pypi.org/simple, https://us-python.pkg.dev/colab-wheels/public/simple/\n",
            "Collecting CoolProp\n",
            "  Downloading CoolProp-6.4.3.post1-cp310-cp310-manylinux_2_17_x86_64.manylinux2014_x86_64.whl (6.1 MB)\n",
            "\u001b[2K     \u001b[90m━━━━━━━━━━━━━━━━━━━━━━━━━━━━━━━━━━━━━━━━\u001b[0m \u001b[32m6.1/6.1 MB\u001b[0m \u001b[31m48.1 MB/s\u001b[0m eta \u001b[36m0:00:00\u001b[0m\n",
            "\u001b[?25hInstalling collected packages: CoolProp\n",
            "Successfully installed CoolProp-6.4.3.post1\n"
          ]
        }
      ]
    },
    {
      "cell_type": "markdown",
      "source": [
        "Расчёт потери напора и давления в горизонтальном трубопровроде по которому перекачивают воду"
      ],
      "metadata": {
        "id": "SO2kQ1jYhHxx"
      }
    },
    {
      "cell_type": "code",
      "source": [
        "import CoolProp.CoolProp as ct \n",
        "import numpy as np\n",
        "q=700000 # расход кг/ч\n",
        "d=300 # диаметр трубы мм\n",
        "L=500 # длина м\n",
        "Δ=0.002   # относительная шероховатость мм/м\n",
        "p=300000 # давление входа Паскаль\n",
        "T=353.15  # температура градусы Кельвина\n",
        "Fluid_name='Water'# название жидкости\n",
        "r=ct.PropsSI('D','P',p,'T',T,Fluid_name)\n",
        "print('Плотность равна=',r,'кг/м^3')\n",
        "Q=q/r\n",
        "print('Объемный расход равен =',Q,'метров кубических в час')\n",
        "F=np.pi*(d/2)**2\n",
        "print('Площадь сечения трубы равна=',F,'миллиметров квадратных')\n",
        "V=Q/F*1000\n",
        "print('Скорость расхода=',V,'скорость расхода км в ч')\n",
        "w=ct.PropsSI('viscosity','P',p,'T',T,Fluid_name)*1000\n",
        "print('Вязкость воды равна=',w,'Н*мм/(м/c*м^2)')\n",
        "Re=(d*V)/(w/r)/3.6\n",
        "print(Re)\n",
        "u=10/Δ\n",
        "z=560/Δ\n",
        "\n",
        "if Re<2300:\n",
        "  k=64/Re\n",
        "  print('k=',k)\n",
        "elif Re<4000:\n",
        "  print('-')\n",
        "elif Re<u:\n",
        "  k=0.3164/(Re**0.25)\n",
        "  print('k=',k)\n",
        "elif Re<z:\n",
        "  k=0.11*((Δ+68/Re)**0.25)\n",
        "  print('k=',k)\n",
        "else:\n",
        "  k=0.11*(Δ**0.25)\n",
        "  print('k=',k)\n",
        "\n",
        "\n"
      ],
      "metadata": {
        "colab": {
          "base_uri": "https://localhost:8080/"
        },
        "id": "Rp3Mg5EPfaii",
        "outputId": "9bb72e1d-314f-45bb-c0c2-c6c46895a7c4"
      },
      "execution_count": 48,
      "outputs": [
        {
          "output_type": "stream",
          "name": "stdout",
          "text": [
            "Плотность равна= 971.8794765337273 кг/м^3\n",
            "Объемный расход равен = 720.2539171797274 метров кубических в час\n",
            "Площадь сечения трубы равна= 70685.83470577035 миллиметров квадратных\n",
            "Скорость расхода= 10.189508551151485 скорость расхода км в ч\n",
            "Вязкость воды равна= 0.35410406755312757 Н*мм/(м/c*м^2)\n",
            "2330523.506187265\n",
            "k= 0.02326216779569241\n"
          ]
        }
      ]
    }
  ]
}